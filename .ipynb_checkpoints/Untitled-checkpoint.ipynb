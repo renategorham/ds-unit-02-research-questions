{
 "cells": [
  {
   "cell_type": "markdown",
   "metadata": {},
   "source": [
    "# Unit 2 / Lesson 1"
   ]
  },
  {
   "cell_type": "markdown",
   "metadata": {},
   "source": [
    "Good question / Bad question"
   ]
  },
  {
   "cell_type": "markdown",
   "metadata": {},
   "source": [
    " 1) What is the 1994 rate of juvenile delinquency in the U.S.?  \n",
    " Good question. The rate of juvenile delinquency can be gather for 1994."
   ]
  },
  {
   "cell_type": "markdown",
   "metadata": {},
   "source": [
    "2)  What can we do to reduce juvenile delinquency in the U.S.?  \n",
    "bad question. Vague."
   ]
  },
  {
   "cell_type": "markdown",
   "metadata": {},
   "source": [
    "2) Does education play a role in reducing juvenile delinquents' return to crime?\n",
    "Bad question (or OK question). The specific type of education is not specified and the differences in quality cannot be quantified. "
   ]
  },
  {
   "cell_type": "markdown",
   "metadata": {},
   "source": [
    "3) How many customers does AT&T currently serve in Washington, DC?  \n",
    "Good question. Time and location bound."
   ]
  },
  {
   "cell_type": "markdown",
   "metadata": {},
   "source": [
    "4)  What factors lead consumers to choose AT&T over other service providers?   \n",
    "Bad question, because there is not hypothesis around factors.  "
   ]
  },
  {
   "cell_type": "markdown",
   "metadata": {},
   "source": [
    "5) How can AT&T attract more customers?  \n",
    "Bad question, no hypothesis."
   ]
  },
  {
   "cell_type": "markdown",
   "metadata": {},
   "source": [
    "6)  Why did the Challenger Shuttle explode?  \n",
    "Bad (or OK) question. No hypothesis."
   ]
  },
  {
   "cell_type": "markdown",
   "metadata": {},
   "source": [
    "7)   Which genes are associated with increased risk of breast cancer?  \n",
    "Good question, genes can be quantified and modeled.  "
   ]
  },
  {
   "cell_type": "markdown",
   "metadata": {},
   "source": [
    "8) Is it better to read to children at night or in the morning?  \n",
    "Good question. Time bound.  "
   ]
  },
  {
   "cell_type": "markdown",
   "metadata": {},
   "source": [
    "10) How does Google’s search algorithm work?  \n",
    "Bad question. vague."
   ]
  },
  {
   "cell_type": "code",
   "execution_count": null,
   "metadata": {},
   "outputs": [],
   "source": []
  }
 ],
 "metadata": {
  "kernelspec": {
   "display_name": "Python 3",
   "language": "python",
   "name": "python3"
  },
  "language_info": {
   "codemirror_mode": {
    "name": "ipython",
    "version": 3
   },
   "file_extension": ".py",
   "mimetype": "text/x-python",
   "name": "python",
   "nbconvert_exporter": "python",
   "pygments_lexer": "ipython3",
   "version": "3.7.0"
  },
  "toc": {
   "base_numbering": 1,
   "nav_menu": {},
   "number_sections": true,
   "sideBar": true,
   "skip_h1_title": true,
   "title_cell": "",
   "title_sidebar": "Contents",
   "toc_cell": false,
   "toc_position": {},
   "toc_section_display": true,
   "toc_window_display": true
  }
 },
 "nbformat": 4,
 "nbformat_minor": 2
}
